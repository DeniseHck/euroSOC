{
 "cells": [
  {
   "cell_type": "markdown",
   "id": "214c9415",
   "metadata": {},
   "source": [
    "# Code to turn LUCAS HARMONISED GPS coordinates into actual usable coordinates in GIS (negativize gps coordinates to the West of Greenwich)"
   ]
  },
  {
   "cell_type": "code",
   "execution_count": null,
   "id": "0e823323",
   "metadata": {},
   "outputs": [],
   "source": [
    "import pandas as pd\n",
    "import numpy as np"
   ]
  },
  {
   "cell_type": "code",
   "execution_count": null,
   "id": "8f40c309",
   "metadata": {},
   "outputs": [
    {
     "name": "stderr",
     "output_type": "stream",
     "text": [
      "/Users/denise/opt/anaconda3/lib/python3.9/site-packages/IPython/core/interactiveshell.py:3444: DtypeWarning: Columns (33,38,43) have mixed types.Specify dtype option on import or set low_memory=False.\n",
      "  exec(code_obj, self.user_global_ns, self.user_ns)\n"
     ]
    },
    {
     "name": "stdout",
     "output_type": "stream",
     "text": [
      "0        -9.47547\n",
      "1             NaN\n",
      "2             NaN\n",
      "3        -8.90650\n",
      "4        -9.38561\n",
      "           ...   \n",
      "340138        NaN\n",
      "340139        NaN\n",
      "340140        NaN\n",
      "340141        NaN\n",
      "340142        NaN\n",
      "Name: gps_long, Length: 340143, dtype: float64\n"
     ]
    }
   ],
   "source": [
    "#convert the West gps coordinates to Negative values and store in column H_\n",
    "\n",
    "data = pd.read_csv(\"../Desktop/SENSE_CDT/GIS/LUCAS_HARMO/lucas_harmo_uf_2015.csv\")\n",
    "\n",
    "#print(data)\n",
    "\n",
    "def tran_pos_to_neg(df):\n",
    "    if df['gps_ew'] == \"West\":\n",
    "        return df['gps_long'] * (-1)\n",
    "    elif df['gps_ew'] == \"East\":\n",
    "        return df['gps_long']\n",
    "\n",
    "data[\"gps_long\"] = data.apply(tran_pos_to_neg, axis=1)\n",
    "\n",
    "print (data[\"gps_long\"])\n",
    "\n",
    "\n",
    "data.to_csv(\"../Desktop/SENSE_CDT/GIS/LUCAS_HARMO/HARMO_2015.csv\")"
   ]
  },
  {
   "cell_type": "code",
   "execution_count": null,
   "id": "a0656950",
   "metadata": {},
   "outputs": [],
   "source": []
  },
  {
   "cell_type": "code",
   "execution_count": null,
   "id": "5e9577c5",
   "metadata": {},
   "outputs": [],
   "source": []
  },
  {
   "cell_type": "code",
   "execution_count": 18,
   "id": "7f3e5ebf",
   "metadata": {},
   "outputs": [],
   "source": []
  },
  {
   "cell_type": "code",
   "execution_count": null,
   "id": "254d97ff",
   "metadata": {},
   "outputs": [],
   "source": []
  }
 ],
 "metadata": {
  "kernelspec": {
   "display_name": "Python 3 (ipykernel)",
   "language": "python",
   "name": "python3"
  },
  "language_info": {
   "codemirror_mode": {
    "name": "ipython",
    "version": 3
   },
   "file_extension": ".py",
   "mimetype": "text/x-python",
   "name": "python",
   "nbconvert_exporter": "python",
   "pygments_lexer": "ipython3",
   "version": "3.9.7"
  }
 },
 "nbformat": 4,
 "nbformat_minor": 5
}
